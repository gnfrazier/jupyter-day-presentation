{
 "cells": [
  {
   "cell_type": "code",
   "execution_count": 1,
   "metadata": {
    "slideshow": {
     "slide_type": "skip"
    }
   },
   "outputs": [],
   "source": [
    "from isochroneapp import *"
   ]
  },
  {
   "cell_type": "markdown",
   "metadata": {
    "slideshow": {
     "slide_type": "slide"
    }
   },
   "source": [
    "# <center>Stop editing cells!<br/>Build a User-Interface for your Notebook.</center>\n",
    "### <center>Greg Frazier</center>\n",
    "<center>gnfrazier.me</center>\n",
    "<center><a href=\"https://github.com/gnfrazier/jupyter-day-presentation\">https://github.com/gnfrazier/jupyter-day-presentation</a></center>"
   ]
  },
  {
   "cell_type": "markdown",
   "metadata": {
    "slideshow": {
     "slide_type": "slide"
    }
   },
   "source": [
    "## I used to do this\n",
    "``` Python\n",
    "# Edit these varibles to change input parameters\n",
    "address = '1234 Main Street, Anytown, MA, 01234' # Real input address as string\n",
    "mode = 'drive' # Mode for travel speed. Walk or Drive\n",
    "ranges = [10,20,30,40,50,60] # Minute travel time to be displayed\n",
    "```\n"
   ]
  },
  {
   "cell_type": "markdown",
   "metadata": {
    "slideshow": {
     "slide_type": "slide"
    }
   },
   "source": [
    "## Now I do this"
   ]
  },
  {
   "cell_type": "code",
   "execution_count": 2,
   "metadata": {
    "cell_style": "split"
   },
   "outputs": [],
   "source": [
    "def display_results(x):\n",
    "    \n",
    "    out.clear_output(wait=True)\n",
    "    \n",
    "    map_result = create_map(address=address_box.value,\n",
    "                            mode=method.value) \n",
    "    \n",
    "    with out:\n",
    "        display(box, map_result)\n",
    "\n",
    "\n",
    "submit.on_click(display_results)\n",
    "\n"
   ]
  },
  {
   "cell_type": "code",
   "execution_count": 3,
   "metadata": {
    "cell_style": "split"
   },
   "outputs": [
    {
     "data": {
      "application/vnd.jupyter.widget-view+json": {
       "model_id": "046a3de06a2042d6a566045a9186a18d",
       "version_major": 2,
       "version_minor": 0
      },
      "text/plain": [
       "Output()"
      ]
     },
     "metadata": {},
     "output_type": "display_data"
    }
   ],
   "source": [
    "out"
   ]
  },
  {
   "cell_type": "markdown",
   "metadata": {
    "slideshow": {
     "slide_type": "slide"
    }
   },
   "source": [
    "## iPywidgets"
   ]
  },
  {
   "cell_type": "markdown",
   "metadata": {
    "cell_style": "split",
    "slideshow": {
     "slide_type": "-"
    }
   },
   "source": [
    "- Excellent documentation\n",
    "- Quick to define\n",
    "- Large assortment of standardized components\n",
    "- Easy to add typical parameters\n",
    "- Ability to customize with CSS\n",
    "- Advanced layouts with CSS grid or flexbox"
   ]
  },
  {
   "cell_type": "code",
   "execution_count": 4,
   "metadata": {
    "cell_style": "split",
    "slideshow": {
     "slide_type": "-"
    }
   },
   "outputs": [
    {
     "data": {
      "application/vnd.jupyter.widget-view+json": {
       "model_id": "ab4cec63044f468782eb753b4644d96c",
       "version_major": 2,
       "version_minor": 0
      },
      "text/plain": [
       "DatePicker(value=None)"
      ]
     },
     "metadata": {},
     "output_type": "display_data"
    },
    {
     "data": {
      "application/vnd.jupyter.widget-view+json": {
       "model_id": "91e8c978b20742889b882366f8f052e7",
       "version_major": 2,
       "version_minor": 0
      },
      "text/plain": [
       "ColorPicker(value='black')"
      ]
     },
     "metadata": {},
     "output_type": "display_data"
    }
   ],
   "source": [
    "date = widgets.DatePicker()\n",
    "color = widgets.ColorPicker()\n",
    "display(date, color)"
   ]
  },
  {
   "cell_type": "markdown",
   "metadata": {
    "slideshow": {
     "slide_type": "slide"
    }
   },
   "source": [
    "## iPywidgets Installation\n",
    "**With Pip**\n",
    "```bash\n",
    "pip install ipywidgets\n",
    "jupyter nbextension enable --py widgetsnbextension\n",
    "```\n",
    "**Using Conda**\n",
    "```bash\n",
    "conda install -c conda-forge ipywidgets\n",
    "```\n",
    "**To activate in JupyterLab**\n",
    "(requires nodejs)\n",
    "```bash\n",
    "jupyter labextension install @jupyter-widgets/jupyterlab-manager\n",
    "```\n",
    "\n"
   ]
  },
  {
   "cell_type": "markdown",
   "metadata": {
    "cell_style": "center",
    "slideshow": {
     "slide_type": "slide"
    }
   },
   "source": [
    "## Build Components\n",
    "``` Python\n",
    "import ipywidgets as widgets\n",
    "\n",
    "address_box = widgets.Text(\n",
    "    value='1234 Main Street, Anytown, MA, 12345',\n",
    "    placeholder='1234 Main Street, Anytown, MA, 12345',\n",
    "    description='Address:',\n",
    "    layout=widgets.Layout(width='auto'),\n",
    "    disabled=False\n",
    "    )\n",
    "\n",
    "\n",
    "method = widgets.ToggleButtons(\n",
    "    options=['Walk ', 'Drive '],\n",
    "    description='Method:',\n",
    "    disabled=False,\n",
    "    value='Drive ',\n",
    "    button_style='success', \n",
    "    tooltips=['Walking Distance', 'Driving Distance'],\n",
    "    icons=['blind', 'car']\n",
    "    )\n",
    "\n",
    "submit = widgets.Button(\n",
    "    description='Submit',\n",
    "    disabled=False,\n",
    "    button_style='', # 'success', 'info', 'warning', 'danger' or ''\n",
    "    tooltip='Submit',\n",
    "    icon=''\n",
    "    )\n",
    "```\n"
   ]
  },
  {
   "cell_type": "markdown",
   "metadata": {
    "slideshow": {
     "slide_type": "slide"
    }
   },
   "source": [
    "## Placing Components in a Notebook\n",
    "Make a list of the components, then define a layout, finally display it.\n",
    "```Python\n",
    "w = [address_box, method, submit]\n",
    "\n",
    "box_layout = widgets.Layout(display='flex',\n",
    "                            flex_flow='column',\n",
    "                            align_items='stretch',\n",
    "                            border='dash',\n",
    "                            width='70%')\n",
    "\n",
    "box = widgets.Box(children=w, layout=box_layout)\n",
    "out = widgets.Output()\n",
    "\n",
    "with out:\n",
    "    display(box)\n",
    "```"
   ]
  },
  {
   "cell_type": "markdown",
   "metadata": {
    "slideshow": {
     "slide_type": "slide"
    }
   },
   "source": [
    " "
   ]
  },
  {
   "cell_type": "markdown",
   "metadata": {
    "cell_style": "split",
    "slideshow": {
     "slide_type": "-"
    }
   },
   "source": [
    "## Passing Data\n",
    "Input widgets\n",
    "- UI elemets set up as Global Objects\n",
    "- Use the .value method inside functions\n",
    "\n"
   ]
  },
  {
   "cell_type": "code",
   "execution_count": 5,
   "metadata": {
    "cell_style": "split",
    "slideshow": {
     "slide_type": "-"
    }
   },
   "outputs": [
    {
     "name": "stdout",
     "output_type": "stream",
     "text": [
      "1234 Main Street, Anytown, MA, 12345\n"
     ]
    }
   ],
   "source": [
    "print(address_box.value)\n"
   ]
  },
  {
   "cell_type": "markdown",
   "metadata": {
    "slideshow": {
     "slide_type": "slide"
    }
   },
   "source": [
    " "
   ]
  },
  {
   "cell_type": "markdown",
   "metadata": {
    "cell_style": "split",
    "slideshow": {
     "slide_type": "-"
    }
   },
   "source": [
    "## Passing Data\n",
    "Button widgets\n",
    "- No .value method\n",
    "- The .on_click method triggers a callback\n",
    "- Passes a single argument by default"
   ]
  },
  {
   "cell_type": "code",
   "execution_count": 6,
   "metadata": {
    "cell_style": "split",
    "slideshow": {
     "slide_type": "-"
    }
   },
   "outputs": [
    {
     "data": {
      "application/vnd.jupyter.widget-view+json": {
       "model_id": "f0bed6c97d7d4cd985a591cadc7af3f0",
       "version_major": 2,
       "version_minor": 0
      },
      "text/plain": [
       "Button(button_style='warning', icon='play', style=ButtonStyle())"
      ]
     },
     "metadata": {},
     "output_type": "display_data"
    },
    {
     "name": "stdout",
     "output_type": "stream",
     "text": [
      "Clicked\n",
      "Clicked\n"
     ]
    }
   ],
   "source": [
    "def show_callback(x):\n",
    "    print('Clicked')\n",
    "\n",
    "orange = widgets.Button(icon='play',\n",
    "                        button_style='warning')\n",
    "\n",
    "orange.on_click(show_callback)\n",
    "\n",
    "display(orange)"
   ]
  },
  {
   "cell_type": "markdown",
   "metadata": {
    "slideshow": {
     "slide_type": "slide"
    }
   },
   "source": [
    "## iPyleaflet\n"
   ]
  },
  {
   "cell_type": "markdown",
   "metadata": {
    "cell_style": "split",
    "slideshow": {
     "slide_type": "-"
    }
   },
   "source": [
    "- Display geospatial data\n",
    "- Large assortment of basemaps\n",
    "- Support shapes\n",
    "- Interactive components\n",
    "    - Zoom\n",
    "    - Layer controls\n",
    "    - Drawing shapes\n",
    " "
   ]
  },
  {
   "cell_type": "code",
   "execution_count": 7,
   "metadata": {
    "cell_style": "split",
    "slideshow": {
     "slide_type": "-"
    }
   },
   "outputs": [
    {
     "data": {
      "application/vnd.jupyter.widget-view+json": {
       "model_id": "e0215032e48f455c825148fa1bc47709",
       "version_major": 2,
       "version_minor": 0
      },
      "text/plain": [
       "Map(basemap={'url': 'https://{s}.tile.openstreetmap.org/{z}/{x}/{y}.png', 'max_zoom': 19, 'attribution': 'Map …"
      ]
     },
     "metadata": {},
     "output_type": "display_data"
    }
   ],
   "source": [
    "location = address_to_coord(address_box.value)\n",
    "base_demo = ipl.Map(center=location, zoom=10)\n",
    "display(base_demo)\n",
    "demo_basemaps(location, base_demo)"
   ]
  },
  {
   "cell_type": "markdown",
   "metadata": {
    "slideshow": {
     "slide_type": "slide"
    }
   },
   "source": [
    "## iPyleaflet Installation\n",
    "**With Pip**\n",
    "```bash\n",
    "pip install ipyleaflet\n",
    "```\n",
    "**Using Conda**\n",
    "```bash\n",
    "conda install -c conda-forge ipyleaflet\n",
    "```\n",
    "**To activate in JupyterLab**\n",
    "(requires nodejs)\n",
    "```bash\n",
    "jupyter labextension install jupyter-leaflet\n",
    "```\n",
    "\n",
    "\n"
   ]
  },
  {
   "cell_type": "markdown",
   "metadata": {
    "slideshow": {
     "slide_type": "slide"
    }
   },
   "source": [
    "## Building Maps"
   ]
  },
  {
   "cell_type": "code",
   "execution_count": 8,
   "metadata": {
    "cell_style": "split",
    "slideshow": {
     "slide_type": "-"
    }
   },
   "outputs": [],
   "source": [
    "\n",
    "import ipyleaflet as ipl\n",
    "\n",
    "new_map = ipl.Map(center=location, zoom=10)\n",
    "\n",
    "mapnik = ipl.basemaps.OpenStreetMap.Mapnik\n",
    "mapnik_tiles = ipl.basemap_to_tiles(mapnik)\n",
    "new_map.add_layer(mapnik_tiles)\n",
    "\n",
    "\n",
    "new_map.add_control(ipl.LayersControl())\n",
    "\n",
    "\n"
   ]
  },
  {
   "cell_type": "code",
   "execution_count": 9,
   "metadata": {
    "cell_style": "split",
    "slideshow": {
     "slide_type": "-"
    }
   },
   "outputs": [
    {
     "data": {
      "application/vnd.jupyter.widget-view+json": {
       "model_id": "47659962495d4cffb2ea53e288d59683",
       "version_major": 2,
       "version_minor": 0
      },
      "text/plain": [
       "Map(basemap={'url': 'https://{s}.tile.openstreetmap.org/{z}/{x}/{y}.png', 'max_zoom': 19, 'attribution': 'Map …"
      ]
     },
     "metadata": {},
     "output_type": "display_data"
    }
   ],
   "source": [
    "display(new_map)"
   ]
  },
  {
   "cell_type": "markdown",
   "metadata": {
    "slideshow": {
     "slide_type": "slide"
    }
   },
   "source": [
    " ## Appmode \n",
    "- Notebook becomes a single page app\n",
    "- Works in Jupyter Hub\n",
    "- Does not secure notebook from edits"
   ]
  },
  {
   "cell_type": "markdown",
   "metadata": {
    "slideshow": {
     "slide_type": "slide"
    }
   },
   "source": [
    "##  Installing Appmode\n",
    "**With Pip**\n",
    "```bash\n",
    "pip install appmode\n",
    "jupyter nbextension     enable --py --sys-prefix appmode\n",
    "jupyter serverextension enable --py --sys-prefix appmode\n",
    "```\n",
    "**Using Conda**\n",
    "```bash\n",
    "conda install --channel conda-forge appmode\n",
    "```\n",
    "\n"
   ]
  },
  {
   "cell_type": "markdown",
   "metadata": {
    "slideshow": {
     "slide_type": "slide"
    }
   },
   "source": [
    "## Additional Information\n",
    "[RISE Slides on GitHub](https://github.com/gnfrazier/jupyter-day-presentation)  \n",
    "[iPywidets Documentation](https://ipywidgets.readthedocs.io/en/stable/index.html)  \n",
    "[iPyleaflet Documentation](https://ipyleaflet.readthedocs.io/en/latest/)  \n",
    "[Leaflet Basemaps](https://leaflet-extras.github.io/leaflet-providers/preview/)\n",
    "[Isochrone API from here.com](https://developer.here.com/documentation/routing/topics/request-isoline.html)  \n",
    "[Appmode GitHub Page](https://github.com/oschuett/appmode)\n"
   ]
  }
 ],
 "metadata": {
  "celltoolbar": "Slideshow",
  "kernelspec": {
   "display_name": "Python 3",
   "language": "python",
   "name": "python3"
  },
  "language_info": {
   "codemirror_mode": {
    "name": "ipython",
    "version": 3
   },
   "file_extension": ".py",
   "mimetype": "text/x-python",
   "name": "python",
   "nbconvert_exporter": "python",
   "pygments_lexer": "ipython3",
   "version": "3.6.6"
  }
 },
 "nbformat": 4,
 "nbformat_minor": 2
}
