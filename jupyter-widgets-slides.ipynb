{
 "cells": [
  {
   "cell_type": "code",
   "execution_count": 1,
   "metadata": {
    "slideshow": {
     "slide_type": "skip"
    }
   },
   "outputs": [],
   "source": [
    "from isochroneapp import *"
   ]
  },
  {
   "cell_type": "markdown",
   "metadata": {
    "slideshow": {
     "slide_type": "slide"
    }
   },
   "source": [
    "# <center>Stop editing cells!<br/>Build a User-Interface for your Notebook.</center>\n",
    "### <center>Greg Frazier</center>\n",
    "<center>@gnfrazier</center>\n",
    "<center><a href=\"https://github.com/gnfrazier/jupyter-day-presentation\">https://github.com/gnfrazier/jupyter-day-presentation</a></center>"
   ]
  },
  {
   "cell_type": "markdown",
   "metadata": {
    "slideshow": {
     "slide_type": "slide"
    }
   },
   "source": [
    "## I used to do this\n",
    "``` Python\n",
    "# Edit these varibles to change input parameters\n",
    "address = '1234 Main Street, Anytown, MA, 01234' # Real input address as string\n",
    "mode = 'drive' # Mode for travel speed. Walk or Drive\n",
    "ranges = [10,20,30,40,50,60] # Minute travel time to be displayed\n",
    "```\n"
   ]
  },
  {
   "cell_type": "code",
   "execution_count": 2,
   "metadata": {
    "cell_style": "split",
    "slideshow": {
     "slide_type": "slide"
    }
   },
   "outputs": [],
   "source": [
    "def display_results(x):\n",
    "    \n",
    "    out.clear_output(wait=True)\n",
    "    \n",
    "    map_result = create_map(address=address_box.value,\n",
    "                            mode=method.value) \n",
    "    \n",
    "    with out:\n",
    "        display(box, map_result)\n",
    "\n",
    "\n",
    "submit.on_click(display_results)\n",
    "\n"
   ]
  },
  {
   "cell_type": "code",
   "execution_count": null,
   "metadata": {
    "cell_style": "split",
    "slideshow": {
     "slide_type": "-"
    }
   },
   "outputs": [],
   "source": [
    "out"
   ]
  },
  {
   "cell_type": "markdown",
   "metadata": {
    "slideshow": {
     "slide_type": "slide"
    }
   },
   "source": [
    "## iPywidgets"
   ]
  },
  {
   "cell_type": "markdown",
   "metadata": {
    "cell_style": "split",
    "slideshow": {
     "slide_type": "-"
    }
   },
   "source": [
    "- Excellent documentation\n",
    "- Quick to define\n",
    "- Large assortment of standardized components\n",
    "- Easy to add typical parameters\n",
    "- Ability to customize with CSS\n",
    "- Advanced layouts with CSS grid or flexbox"
   ]
  },
  {
   "cell_type": "code",
   "execution_count": null,
   "metadata": {
    "cell_style": "split",
    "slideshow": {
     "slide_type": "-"
    }
   },
   "outputs": [],
   "source": [
    "check = widgets.Checkbox(description='Checkbox')\n",
    "date = widgets.DatePicker()\n",
    "dropdown = widgets.Dropdown(options=method.options)\n",
    "color = widgets.ColorPicker()\n",
    "\n",
    "display(check,dropdown, date, color)"
   ]
  },
  {
   "cell_type": "markdown",
   "metadata": {
    "slideshow": {
     "slide_type": "slide"
    }
   },
   "source": [
    "## iPywidgets Installation\n",
    "**With Pip**\n",
    "```bash\n",
    "pip install ipywidgets\n",
    "jupyter nbextension enable --py widgetsnbextension\n",
    "```\n",
    "**Using Conda**\n",
    "```bash\n",
    "conda install -c conda-forge ipywidgets\n",
    "```\n",
    "**To activate in JupyterLab**\n",
    "(requires nodejs)\n",
    "```bash\n",
    "jupyter labextension install @jupyter-widgets/jupyterlab-manager\n",
    "```\n",
    "\n"
   ]
  },
  {
   "cell_type": "markdown",
   "metadata": {
    "cell_style": "center",
    "slideshow": {
     "slide_type": "slide"
    }
   },
   "source": [
    "## Build Components\n",
    "``` Python\n",
    "import ipywidgets as widgets\n",
    "\n",
    "address_box = widgets.Text(\n",
    "    value='1234 Main Street, Anytown, MA, 12345',\n",
    "    placeholder='1234 Main Street, Anytown, MA, 12345',\n",
    "    description='Address:',\n",
    "    layout=widgets.Layout(width='auto'),\n",
    "    disabled=False\n",
    "    )\n",
    "\n",
    "\n",
    "method = widgets.ToggleButtons(\n",
    "    options=['Walk ', 'Drive '],\n",
    "    description='Method:',\n",
    "    disabled=False,\n",
    "    value='Drive ',\n",
    "    button_style='success', \n",
    "    tooltips=['Walking Distance', 'Driving Distance'],\n",
    "    icons=['blind', 'car']\n",
    "    )\n",
    "\n",
    "submit = widgets.Button(\n",
    "    description='Submit',\n",
    "    disabled=False,\n",
    "    button_style='', # 'success', 'info', 'warning', 'danger' or ''\n",
    "    tooltip='Submit',\n",
    "    icon=''\n",
    "    )\n",
    "```\n"
   ]
  },
  {
   "cell_type": "markdown",
   "metadata": {
    "slideshow": {
     "slide_type": "slide"
    }
   },
   "source": [
    "## Placing Components in a Notebook\n",
    "Make a list of the components, then define a layout, finally display it.\n",
    "```Python\n",
    "w = [address_box, method, submit]\n",
    "\n",
    "box_layout = widgets.Layout(display='flex',\n",
    "                            flex_flow='column',\n",
    "                            align_items='stretch',\n",
    "                            border='dash',\n",
    "                            width='70%')\n",
    "\n",
    "box = widgets.Box(children=w, layout=box_layout)\n",
    "out = widgets.Output()\n",
    "\n",
    "with out:\n",
    "    display(box)\n",
    "```"
   ]
  },
  {
   "cell_type": "markdown",
   "metadata": {
    "cell_style": "split",
    "slideshow": {
     "slide_type": "slide"
    }
   },
   "source": [
    "## Passing Data\n",
    "Input widgets\n",
    "- UI elemets set up as Global Objects\n",
    "- Use the .value method inside functions\n",
    "\n"
   ]
  },
  {
   "cell_type": "code",
   "execution_count": null,
   "metadata": {
    "cell_style": "split",
    "slideshow": {
     "slide_type": "-"
    }
   },
   "outputs": [],
   "source": [
    "print(address_box.value)\n",
    "print(check.value)\n",
    "print(date.value)\n",
    "print(color.value)"
   ]
  },
  {
   "cell_type": "code",
   "execution_count": null,
   "metadata": {
    "slideshow": {
     "slide_type": "skip"
    }
   },
   "outputs": [],
   "source": []
  },
  {
   "cell_type": "markdown",
   "metadata": {
    "cell_style": "split",
    "slideshow": {
     "slide_type": "slide"
    }
   },
   "source": [
    "## Passing Data\n",
    "Button widgets\n",
    "- No .value method\n",
    "- The .on_click method triggers a callback\n",
    "- Passes a single argument by default"
   ]
  },
  {
   "cell_type": "code",
   "execution_count": null,
   "metadata": {
    "cell_style": "split",
    "slideshow": {
     "slide_type": "-"
    }
   },
   "outputs": [],
   "source": [
    "def show_callback(x):\n",
    "    print('Clicked')\n",
    "\n",
    "orange = widgets.Button(icon='play',\n",
    "                        button_style='warning')\n",
    "\n",
    "orange.on_click(show_callback)\n",
    "\n",
    "display(orange)"
   ]
  },
  {
   "cell_type": "markdown",
   "metadata": {
    "slideshow": {
     "slide_type": "slide"
    }
   },
   "source": [
    "## iPyleaflet\n"
   ]
  },
  {
   "cell_type": "markdown",
   "metadata": {
    "cell_style": "split",
    "slideshow": {
     "slide_type": "-"
    }
   },
   "source": [
    "- Display geospatial data\n",
    "- Large assortment of basemaps\n",
    "- Support shapes\n",
    "- Interactive components\n",
    "    - Zoom\n",
    "    - Layer controls\n",
    "    - Drawing shapes\n",
    " "
   ]
  },
  {
   "cell_type": "code",
   "execution_count": null,
   "metadata": {
    "cell_style": "split",
    "slideshow": {
     "slide_type": "-"
    }
   },
   "outputs": [],
   "source": [
    "location = address_to_coord(address_box.value)\n",
    "base_demo = ipl.Map(center=location, zoom=10)\n",
    "display(base_demo)\n",
    "demo_basemaps(location, base_demo)"
   ]
  },
  {
   "cell_type": "markdown",
   "metadata": {
    "slideshow": {
     "slide_type": "slide"
    }
   },
   "source": [
    "## iPyleaflet Installation\n",
    "**With Pip**\n",
    "```bash\n",
    "pip install ipyleaflet\n",
    "```\n",
    "**Using Conda**\n",
    "```bash\n",
    "conda install -c conda-forge ipyleaflet\n",
    "```\n",
    "**To activate in JupyterLab**\n",
    "(requires nodejs)\n",
    "```bash\n",
    "jupyter labextension install jupyter-leaflet\n",
    "```\n",
    "\n",
    "\n"
   ]
  },
  {
   "cell_type": "markdown",
   "metadata": {
    "slideshow": {
     "slide_type": "slide"
    }
   },
   "source": [
    "## Building Maps"
   ]
  },
  {
   "cell_type": "code",
   "execution_count": null,
   "metadata": {
    "cell_style": "split",
    "slideshow": {
     "slide_type": "-"
    }
   },
   "outputs": [],
   "source": [
    "\n",
    "import ipyleaflet as ipl\n",
    "\n",
    "new_map = ipl.Map(center=location, zoom=10)\n",
    "\n",
    "mapnik = ipl.basemaps.OpenStreetMap.Mapnik\n",
    "mapnik_tiles = ipl.basemap_to_tiles(mapnik)\n",
    "\n",
    "marker = ipl.Marker(location=location, name+)\n",
    "\n",
    "new_map.add_layer(marker)\n",
    "new_map.add_layer(mapnik_tiles)\n",
    "\n",
    "\n",
    "new_map.add_control(ipl.LayersControl())\n",
    "\n",
    "\n"
   ]
  },
  {
   "cell_type": "code",
   "execution_count": null,
   "metadata": {
    "cell_style": "split",
    "slideshow": {
     "slide_type": "-"
    }
   },
   "outputs": [],
   "source": [
    "display(new_map)"
   ]
  },
  {
   "cell_type": "markdown",
   "metadata": {
    "slideshow": {
     "slide_type": "slide"
    }
   },
   "source": [
    " ## Appmode \n",
    "- Notebook becomes a single page app\n",
    "- Works in Jupyter Hub\n",
    "- Does not secure notebook from edits"
   ]
  },
  {
   "cell_type": "markdown",
   "metadata": {
    "slideshow": {
     "slide_type": "slide"
    }
   },
   "source": [
    "##  Installing Appmode\n",
    "**With Pip**\n",
    "```bash\n",
    "pip install appmode\n",
    "jupyter nbextension     enable --py --sys-prefix appmode\n",
    "jupyter serverextension enable --py --sys-prefix appmode\n",
    "```\n",
    "**Using Conda**\n",
    "```bash\n",
    "conda install --channel conda-forge appmode\n",
    "```\n",
    "\n"
   ]
  },
  {
   "cell_type": "markdown",
   "metadata": {
    "slideshow": {
     "slide_type": "slide"
    }
   },
   "source": [
    "## Additional Information\n",
    "[RISE Slides on GitHub](https://github.com/gnfrazier/jupyter-day-presentation)  \n",
    "[iPywidets Documentation](https://ipywidgets.readthedocs.io/en/stable/index.html)  \n",
    "[iPyleaflet Documentation](https://ipyleaflet.readthedocs.io/en/latest/)  \n",
    "[Leaflet Basemaps](https://leaflet-extras.github.io/leaflet-providers/preview/)\n",
    "[Isochrone API from here.com](https://developer.here.com/documentation/routing/topics/request-isoline.html)  \n",
    "[Appmode GitHub Page](https://github.com/oschuett/appmode)\n"
   ]
  }
 ],
 "metadata": {
  "celltoolbar": "Slideshow",
  "kernelspec": {
   "display_name": "Python 3",
   "language": "python",
   "name": "python3"
  },
  "language_info": {
   "codemirror_mode": {
    "name": "ipython",
    "version": 3
   },
   "file_extension": ".py",
   "mimetype": "text/x-python",
   "name": "python",
   "nbconvert_exporter": "python",
   "pygments_lexer": "ipython3",
   "version": "3.6.6"
  }
 },
 "nbformat": 4,
 "nbformat_minor": 2
}
